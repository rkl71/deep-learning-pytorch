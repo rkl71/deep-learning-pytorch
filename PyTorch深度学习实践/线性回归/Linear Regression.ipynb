{
 "cells": [
  {
   "cell_type": "code",
   "execution_count": 1,
   "id": "c1c1bf0b",
   "metadata": {},
   "outputs": [],
   "source": [
    "import torch"
   ]
  },
  {
   "cell_type": "code",
   "execution_count": 2,
   "id": "e207380c",
   "metadata": {},
   "outputs": [],
   "source": [
    "# Prepare dataset\n",
    "x_data = torch.tensor([[1.0], [2.0], [3.0]])\n",
    "y_data = torch.tensor([[2.0], [4.0], [6.0]])"
   ]
  },
  {
   "cell_type": "code",
   "execution_count": 3,
   "id": "1efa8a17",
   "metadata": {},
   "outputs": [],
   "source": [
    "# Design model using class\n",
    "class LinearModel(torch.nn.Module):\n",
    "    def __init__(self):\n",
    "        super(LinearModel, self).__init__()\n",
    "        self.linear = torch.nn.Linear(1, 1)\n",
    "        \n",
    "    def forward(self, x): \n",
    "        y_pred = self.linear(x)\n",
    "        return y_pred\n",
    "\n",
    "model = LinearModel()"
   ]
  },
  {
   "cell_type": "code",
   "execution_count": 4,
   "id": "9795db75",
   "metadata": {},
   "outputs": [],
   "source": [
    "# Construct loss and optimizer\n",
    "# criterion = torch.nn.MSELoss(size_average = False)\n",
    "criterion = torch.nn.MSELoss(reduction = 'sum')\n",
    "optimizer = torch.optim.SGD(model.parameters(), lr=0.01)"
   ]
  },
  {
   "cell_type": "code",
   "execution_count": 5,
   "id": "d2ddb041",
   "metadata": {},
   "outputs": [
    {
     "name": "stdout",
     "output_type": "stream",
     "text": [
      "0 tensor(78.7754, grad_fn=<MseLossBackward0>)\n",
      "1 tensor(35.3591, grad_fn=<MseLossBackward0>)\n",
      "2 tensor(16.0272, grad_fn=<MseLossBackward0>)\n",
      "3 tensor(7.4170, grad_fn=<MseLossBackward0>)\n",
      "4 tensor(3.5800, grad_fn=<MseLossBackward0>)\n",
      "5 tensor(1.8679, grad_fn=<MseLossBackward0>)\n",
      "6 tensor(1.1017, grad_fn=<MseLossBackward0>)\n",
      "7 tensor(0.7568, grad_fn=<MseLossBackward0>)\n",
      "8 tensor(0.5994, grad_fn=<MseLossBackward0>)\n",
      "9 tensor(0.5256, grad_fn=<MseLossBackward0>)\n",
      "10 tensor(0.4890, grad_fn=<MseLossBackward0>)\n",
      "11 tensor(0.4690, grad_fn=<MseLossBackward0>)\n",
      "12 tensor(0.4565, grad_fn=<MseLossBackward0>)\n",
      "13 tensor(0.4474, grad_fn=<MseLossBackward0>)\n",
      "14 tensor(0.4398, grad_fn=<MseLossBackward0>)\n",
      "15 tensor(0.4330, grad_fn=<MseLossBackward0>)\n",
      "16 tensor(0.4266, grad_fn=<MseLossBackward0>)\n",
      "17 tensor(0.4203, grad_fn=<MseLossBackward0>)\n",
      "18 tensor(0.4142, grad_fn=<MseLossBackward0>)\n",
      "19 tensor(0.4083, grad_fn=<MseLossBackward0>)\n",
      "20 tensor(0.4024, grad_fn=<MseLossBackward0>)\n",
      "21 tensor(0.3966, grad_fn=<MseLossBackward0>)\n",
      "22 tensor(0.3909, grad_fn=<MseLossBackward0>)\n",
      "23 tensor(0.3853, grad_fn=<MseLossBackward0>)\n",
      "24 tensor(0.3797, grad_fn=<MseLossBackward0>)\n",
      "25 tensor(0.3743, grad_fn=<MseLossBackward0>)\n",
      "26 tensor(0.3689, grad_fn=<MseLossBackward0>)\n",
      "27 tensor(0.3636, grad_fn=<MseLossBackward0>)\n",
      "28 tensor(0.3584, grad_fn=<MseLossBackward0>)\n",
      "29 tensor(0.3532, grad_fn=<MseLossBackward0>)\n",
      "30 tensor(0.3482, grad_fn=<MseLossBackward0>)\n",
      "31 tensor(0.3432, grad_fn=<MseLossBackward0>)\n",
      "32 tensor(0.3382, grad_fn=<MseLossBackward0>)\n",
      "33 tensor(0.3334, grad_fn=<MseLossBackward0>)\n",
      "34 tensor(0.3286, grad_fn=<MseLossBackward0>)\n",
      "35 tensor(0.3238, grad_fn=<MseLossBackward0>)\n",
      "36 tensor(0.3192, grad_fn=<MseLossBackward0>)\n",
      "37 tensor(0.3146, grad_fn=<MseLossBackward0>)\n",
      "38 tensor(0.3101, grad_fn=<MseLossBackward0>)\n",
      "39 tensor(0.3056, grad_fn=<MseLossBackward0>)\n",
      "40 tensor(0.3012, grad_fn=<MseLossBackward0>)\n",
      "41 tensor(0.2969, grad_fn=<MseLossBackward0>)\n",
      "42 tensor(0.2926, grad_fn=<MseLossBackward0>)\n",
      "43 tensor(0.2884, grad_fn=<MseLossBackward0>)\n",
      "44 tensor(0.2843, grad_fn=<MseLossBackward0>)\n",
      "45 tensor(0.2802, grad_fn=<MseLossBackward0>)\n",
      "46 tensor(0.2762, grad_fn=<MseLossBackward0>)\n",
      "47 tensor(0.2722, grad_fn=<MseLossBackward0>)\n",
      "48 tensor(0.2683, grad_fn=<MseLossBackward0>)\n",
      "49 tensor(0.2644, grad_fn=<MseLossBackward0>)\n",
      "50 tensor(0.2606, grad_fn=<MseLossBackward0>)\n",
      "51 tensor(0.2569, grad_fn=<MseLossBackward0>)\n",
      "52 tensor(0.2532, grad_fn=<MseLossBackward0>)\n",
      "53 tensor(0.2496, grad_fn=<MseLossBackward0>)\n",
      "54 tensor(0.2460, grad_fn=<MseLossBackward0>)\n",
      "55 tensor(0.2424, grad_fn=<MseLossBackward0>)\n",
      "56 tensor(0.2390, grad_fn=<MseLossBackward0>)\n",
      "57 tensor(0.2355, grad_fn=<MseLossBackward0>)\n",
      "58 tensor(0.2321, grad_fn=<MseLossBackward0>)\n",
      "59 tensor(0.2288, grad_fn=<MseLossBackward0>)\n",
      "60 tensor(0.2255, grad_fn=<MseLossBackward0>)\n",
      "61 tensor(0.2223, grad_fn=<MseLossBackward0>)\n",
      "62 tensor(0.2191, grad_fn=<MseLossBackward0>)\n",
      "63 tensor(0.2159, grad_fn=<MseLossBackward0>)\n",
      "64 tensor(0.2128, grad_fn=<MseLossBackward0>)\n",
      "65 tensor(0.2098, grad_fn=<MseLossBackward0>)\n",
      "66 tensor(0.2068, grad_fn=<MseLossBackward0>)\n",
      "67 tensor(0.2038, grad_fn=<MseLossBackward0>)\n",
      "68 tensor(0.2009, grad_fn=<MseLossBackward0>)\n",
      "69 tensor(0.1980, grad_fn=<MseLossBackward0>)\n",
      "70 tensor(0.1951, grad_fn=<MseLossBackward0>)\n",
      "71 tensor(0.1923, grad_fn=<MseLossBackward0>)\n",
      "72 tensor(0.1896, grad_fn=<MseLossBackward0>)\n",
      "73 tensor(0.1868, grad_fn=<MseLossBackward0>)\n",
      "74 tensor(0.1841, grad_fn=<MseLossBackward0>)\n",
      "75 tensor(0.1815, grad_fn=<MseLossBackward0>)\n",
      "76 tensor(0.1789, grad_fn=<MseLossBackward0>)\n",
      "77 tensor(0.1763, grad_fn=<MseLossBackward0>)\n",
      "78 tensor(0.1738, grad_fn=<MseLossBackward0>)\n",
      "79 tensor(0.1713, grad_fn=<MseLossBackward0>)\n",
      "80 tensor(0.1688, grad_fn=<MseLossBackward0>)\n",
      "81 tensor(0.1664, grad_fn=<MseLossBackward0>)\n",
      "82 tensor(0.1640, grad_fn=<MseLossBackward0>)\n",
      "83 tensor(0.1616, grad_fn=<MseLossBackward0>)\n",
      "84 tensor(0.1593, grad_fn=<MseLossBackward0>)\n",
      "85 tensor(0.1570, grad_fn=<MseLossBackward0>)\n",
      "86 tensor(0.1548, grad_fn=<MseLossBackward0>)\n",
      "87 tensor(0.1526, grad_fn=<MseLossBackward0>)\n",
      "88 tensor(0.1504, grad_fn=<MseLossBackward0>)\n",
      "89 tensor(0.1482, grad_fn=<MseLossBackward0>)\n",
      "90 tensor(0.1461, grad_fn=<MseLossBackward0>)\n",
      "91 tensor(0.1440, grad_fn=<MseLossBackward0>)\n",
      "92 tensor(0.1419, grad_fn=<MseLossBackward0>)\n",
      "93 tensor(0.1399, grad_fn=<MseLossBackward0>)\n",
      "94 tensor(0.1379, grad_fn=<MseLossBackward0>)\n",
      "95 tensor(0.1359, grad_fn=<MseLossBackward0>)\n",
      "96 tensor(0.1339, grad_fn=<MseLossBackward0>)\n",
      "97 tensor(0.1320, grad_fn=<MseLossBackward0>)\n",
      "98 tensor(0.1301, grad_fn=<MseLossBackward0>)\n",
      "99 tensor(0.1282, grad_fn=<MseLossBackward0>)\n"
     ]
    }
   ],
   "source": [
    "# Training cycle forward, backward, update\n",
    "for epoch in range(100):\n",
    "    y_pred = model(x_data)\n",
    "    loss = criterion(y_pred, y_data)\n",
    "    print(epoch, loss)\n",
    "    \n",
    "    optimizer.zero_grad()\n",
    "    loss.backward()\n",
    "    optimizer.step()"
   ]
  },
  {
   "cell_type": "code",
   "execution_count": 6,
   "id": "6ef3a9e0",
   "metadata": {},
   "outputs": [
    {
     "name": "stdout",
     "output_type": "stream",
     "text": [
      "w =  1.761611819267273\n",
      "n =  0.5419124960899353\n"
     ]
    }
   ],
   "source": [
    "# Output weight and bais\n",
    "print('w = ', model.linear.weight.item())\n",
    "print('n = ', model.linear.bias.item())"
   ]
  },
  {
   "cell_type": "code",
   "execution_count": 7,
   "id": "7d8e8205",
   "metadata": {},
   "outputs": [
    {
     "name": "stdout",
     "output_type": "stream",
     "text": [
      "y_pred =  tensor([[7.5884]])\n"
     ]
    }
   ],
   "source": [
    "# Test model\n",
    "x_test = torch.Tensor([[4.0]])\n",
    "y_test = model(x_test)\n",
    "print('y_pred = ', y_test.data)"
   ]
  },
  {
   "cell_type": "code",
   "execution_count": null,
   "id": "aab014d0",
   "metadata": {},
   "outputs": [],
   "source": []
  }
 ],
 "metadata": {
  "kernelspec": {
   "display_name": "Python [conda env:pytorch] *",
   "language": "python",
   "name": "conda-env-pytorch-py"
  },
  "language_info": {
   "codemirror_mode": {
    "name": "ipython",
    "version": 3
   },
   "file_extension": ".py",
   "mimetype": "text/x-python",
   "name": "python",
   "nbconvert_exporter": "python",
   "pygments_lexer": "ipython3",
   "version": "3.8.20"
  }
 },
 "nbformat": 4,
 "nbformat_minor": 5
}
