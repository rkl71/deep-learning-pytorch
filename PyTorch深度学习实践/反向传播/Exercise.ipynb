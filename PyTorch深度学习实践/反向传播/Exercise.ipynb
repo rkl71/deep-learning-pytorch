{
 "cells": [
  {
   "cell_type": "code",
   "execution_count": 1,
   "id": "7a4c3b45",
   "metadata": {},
   "outputs": [],
   "source": [
    "import numpy as np\n",
    "import matplotlib.pyplot as plt\n",
    "import torch"
   ]
  },
  {
   "cell_type": "code",
   "execution_count": 2,
   "id": "4811a209",
   "metadata": {},
   "outputs": [],
   "source": [
    "# Prepare the train set\n",
    "x_data = [1.0, 2.0, 3.0]\n",
    "y_data = [2.0, 4.0, 6.0]"
   ]
  },
  {
   "cell_type": "code",
   "execution_count": 3,
   "id": "98bc038c",
   "metadata": {},
   "outputs": [],
   "source": [
    "# Calculate gradient\n",
    "w1 = torch.Tensor([1.0])\n",
    "w1.requires_grad = True\n",
    "w2 = torch.Tensor([1.0])\n",
    "w2.requires_grad = True\n",
    "b = torch.Tensor([1.0])\n",
    "b.requires_grad = True"
   ]
  },
  {
   "cell_type": "code",
   "execution_count": 4,
   "id": "e73d9059",
   "metadata": {},
   "outputs": [],
   "source": [
    "# Define the model\n",
    "def forward(x):\n",
    "    return w1 * x**2 + w2 * x + b"
   ]
  },
  {
   "cell_type": "code",
   "execution_count": 5,
   "id": "b657d01a",
   "metadata": {},
   "outputs": [],
   "source": [
    "# Define the loss function\n",
    "def loss(x, y):\n",
    "    y_pred = forward(x)\n",
    "    return (y_pred - y) ** 2"
   ]
  },
  {
   "cell_type": "code",
   "execution_count": 6,
   "id": "95264552",
   "metadata": {},
   "outputs": [],
   "source": [
    "epoch_list = []\n",
    "cost_list = []"
   ]
  },
  {
   "cell_type": "code",
   "execution_count": 7,
   "id": "03968794",
   "metadata": {},
   "outputs": [
    {
     "name": "stdout",
     "output_type": "stream",
     "text": [
      "Predict (before training) 4 21.0\n",
      "Predict (after training) 4 8.0020112991333\n"
     ]
    }
   ],
   "source": [
    "print('Predict (before training)', 4, forward(4).item())\n",
    "\n",
    "for epoch in range(10000):\n",
    "    cost = 0\n",
    "    for x, y in zip(x_data, y_data):\n",
    "        # Forward, compute the loss\n",
    "        l = loss(x, y)\n",
    "        # Backward, compute grad for Tensor whose requires_grad set to True\n",
    "        l.backward()\n",
    "#         print('\\tgrad:', x, y, w1.grad.item(), w2.grad.item(), b.grad.item())\n",
    "        cost += l.item()\n",
    "        w1.data = w1.data - 0.01 * w1.grad.data\n",
    "        w2.data = w2.data - 0.01 * w2.grad.data\n",
    "        b.data = b.data - 0.01 * b.grad.data\n",
    "        \n",
    "        # After update, remember set the grad to ZERO!!!\n",
    "        w1.grad.data.zero_()\n",
    "        w2.grad.data.zero_()\n",
    "        b.grad.data.zero_()\n",
    "    \n",
    "    epoch_list.append(epoch)\n",
    "    cost_list.append(cost / len(x_data))\n",
    "#     print('progress:', epoch, l.item())\n",
    "    \n",
    "print('Predict (after training)', 4, forward(4).item())"
   ]
  },
  {
   "cell_type": "code",
   "execution_count": 8,
   "id": "04e4cbaf",
   "metadata": {},
   "outputs": [
    {
     "data": {
      "image/png": "[encoded data removed]",
      "text/plain": [
       "<Figure size 640x480 with 1 Axes>"
      ]
     },
     "metadata": {},
     "output_type": "display_data"
    }
   ],
   "source": [
    "plt.plot(cost_list,epoch_list)\n",
    "plt.xlabel('epoch')\n",
    "plt.ylabel('cost')\n",
    "plt.grid(True)\n",
    "plt.show()"
   ]
  },
  {
   "cell_type": "code",
   "execution_count": null,
   "id": "8c7e0b83",
   "metadata": {},
   "outputs": [],
   "source": []
  }
 ],
 "metadata": {
  "kernelspec": {
   "display_name": "Python [conda env:pytorch] *",
   "language": "python",
   "name": "conda-env-pytorch-py"
  },
  "language_info": {
   "codemirror_mode": {
    "name": "ipython",
    "version": 3
   },
   "file_extension": ".py",
   "mimetype": "text/x-python",
   "name": "python",
   "nbconvert_exporter": "python",
   "pygments_lexer": "ipython3",
   "version": "3.8.20"
  }
 },
 "nbformat": 4,
 "nbformat_minor": 5
}
