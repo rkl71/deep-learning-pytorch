{
 "cells": [
  {
   "cell_type": "code",
   "execution_count": 1,
   "id": "40c510e3",
   "metadata": {},
   "outputs": [],
   "source": [
    "import torch\n",
    "\n",
    "# For constructing DataLoder\n",
    "from torchvision import transforms\n",
    "from torchvision import datasets\n",
    "from torch.utils.data import DataLoader\n",
    "\n",
    "# For using function relu()\n",
    "import torch.nn.functional as F\n",
    "\n",
    "# For constructing Optimizer\n",
    "import torch.optim as optim"
   ]
  },
  {
   "cell_type": "code",
   "execution_count": 2,
   "id": "9f76d0c2",
   "metadata": {},
   "outputs": [],
   "source": [
    "# Prepare dataset\n",
    "batch_size = 64\n",
    "transform = transforms.Compose([\n",
    "    # Convert the PIL Image to Tensor\n",
    "    transforms.ToTensor(),\n",
    "    # The parameters are mean and std respectively\n",
    "    transforms.Normalize((0.1307, ), (0.3081, ))\n",
    "])\n",
    "\n",
    "train_dataset = datasets.MNIST(root='mnist/', train=True, download=True, transform=transform)\n",
    "train_loader = DataLoader(train_dataset, shuffle=True, batch_size=batch_size)\n",
    "\n",
    "test_dataset = datasets.MNIST(root='mnist/', train=False, download=True, transform=transform)\n",
    "test_loader = DataLoader(test_dataset, shuffle=False,batch_size=batch_size)"
   ]
  },
  {
   "cell_type": "code",
   "execution_count": 3,
   "id": "f01365be",
   "metadata": {},
   "outputs": [],
   "source": [
    "# Design Model\n",
    "class Net(torch.nn.Module):\n",
    "    def __init__(self):\n",
    "        super(Net, self).__init__()\n",
    "        self.l1 = torch.nn.Linear(784, 512)\n",
    "        self.l2 = torch.nn.Linear(512, 256)\n",
    "        self.l3 = torch.nn.Linear(256, 128)\n",
    "        self.l4 = torch.nn.Linear(128, 64)\n",
    "        self.l5 = torch.nn.Linear(64, 10)\n",
    " \n",
    "    def forward(self, x):\n",
    "        x = x.view(-1, 784)\n",
    "        x = F.relu(self.l1(x))\n",
    "        x = F.relu(self.l2(x))\n",
    "        x = F.relu(self.l3(x))\n",
    "        x = F.relu(self.l4(x))\n",
    "        return self.l5(x)\n",
    "    \n",
    "model = Net()"
   ]
  },
  {
   "cell_type": "code",
   "execution_count": 4,
   "id": "bed8df7c",
   "metadata": {},
   "outputs": [],
   "source": [
    "# Construct Loss and Optimizer\n",
    "criterion = torch.nn.CrossEntropyLoss()\n",
    "optimizer = optim.SGD(model.parameters(), lr=0.01, momentum=0.5)"
   ]
  },
  {
   "cell_type": "code",
   "execution_count": 5,
   "id": "78fc82c5",
   "metadata": {},
   "outputs": [],
   "source": [
    "# Train and Test\n",
    "def train(epoch):\n",
    "    running_loss = 0.0\n",
    "    for batch_idx, data in enumerate(train_loader, 0):\n",
    "        inputs, target = data\n",
    "        optimizer.zero_grad()\n",
    "        \n",
    "        # forward + backward + update\n",
    "        outputs = model(inputs)\n",
    "        loss = criterion(outputs, target)\n",
    "        loss.backward()\n",
    "        optimizer.step()\n",
    " \n",
    "        running_loss += loss.item()\n",
    "        if batch_idx % 300 == 299:\n",
    "            print('[%d, %5d] loss: %.3f' % (epoch + 1, batch_idx + 1, running_loss / 300))\n",
    "            running_loss = 0.0\n",
    "            \n",
    "def test():\n",
    "    correct = 0\n",
    "    total = 0\n",
    "    with torch.no_grad():\n",
    "        for data in test_loader:\n",
    "            images, labels = data\n",
    "            outputs = model(images)\n",
    "            _, predicted = torch.max(outputs.data, dim=1)\n",
    "            total += labels.size(0)\n",
    "            correct += (predicted == labels).sum().item()\n",
    "    print('accuracy on test set: %d %% ' % (100 * correct / total))"
   ]
  },
  {
   "cell_type": "code",
   "execution_count": 6,
   "id": "4dd52941",
   "metadata": {},
   "outputs": [
    {
     "name": "stdout",
     "output_type": "stream",
     "text": [
      "[1,   300] loss: 2.209\n",
      "[1,   600] loss: 0.814\n",
      "[1,   900] loss: 0.393\n",
      "accuracy on test set: 89 % \n",
      "[2,   300] loss: 0.312\n",
      "[2,   600] loss: 0.264\n",
      "[2,   900] loss: 0.218\n",
      "accuracy on test set: 94 % \n",
      "[3,   300] loss: 0.185\n",
      "[3,   600] loss: 0.171\n",
      "[3,   900] loss: 0.153\n",
      "accuracy on test set: 95 % \n",
      "[4,   300] loss: 0.133\n",
      "[4,   600] loss: 0.123\n",
      "[4,   900] loss: 0.117\n",
      "accuracy on test set: 96 % \n",
      "[5,   300] loss: 0.104\n",
      "[5,   600] loss: 0.097\n",
      "[5,   900] loss: 0.094\n",
      "accuracy on test set: 95 % \n",
      "[6,   300] loss: 0.076\n",
      "[6,   600] loss: 0.080\n",
      "[6,   900] loss: 0.081\n",
      "accuracy on test set: 97 % \n",
      "[7,   300] loss: 0.062\n",
      "[7,   600] loss: 0.063\n",
      "[7,   900] loss: 0.065\n",
      "accuracy on test set: 97 % \n",
      "[8,   300] loss: 0.051\n",
      "[8,   600] loss: 0.051\n",
      "[8,   900] loss: 0.054\n",
      "accuracy on test set: 96 % \n",
      "[9,   300] loss: 0.043\n",
      "[9,   600] loss: 0.040\n",
      "[9,   900] loss: 0.044\n",
      "accuracy on test set: 97 % \n",
      "[10,   300] loss: 0.033\n",
      "[10,   600] loss: 0.037\n",
      "[10,   900] loss: 0.033\n",
      "accuracy on test set: 97 % \n"
     ]
    }
   ],
   "source": [
    "if __name__ == '__main__':\n",
    "    for epoch in range(10):\n",
    "        train(epoch)\n",
    "        test()"
   ]
  },
  {
   "cell_type": "code",
   "execution_count": null,
   "id": "973cc5e0",
   "metadata": {},
   "outputs": [],
   "source": []
  }
 ],
 "metadata": {
  "kernelspec": {
   "display_name": "Python [conda env:pytorch] *",
   "language": "python",
   "name": "conda-env-pytorch-py"
  },
  "language_info": {
   "codemirror_mode": {
    "name": "ipython",
    "version": 3
   },
   "file_extension": ".py",
   "mimetype": "text/x-python",
   "name": "python",
   "nbconvert_exporter": "python",
   "pygments_lexer": "ipython3",
   "version": "3.8.20"
  }
 },
 "nbformat": 4,
 "nbformat_minor": 5
}
