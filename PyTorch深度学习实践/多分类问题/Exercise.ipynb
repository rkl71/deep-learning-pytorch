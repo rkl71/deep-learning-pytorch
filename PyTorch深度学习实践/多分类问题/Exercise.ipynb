{
 "cells": [
  {
   "cell_type": "code",
   "execution_count": 1,
   "id": "3cec4cec",
   "metadata": {},
   "outputs": [],
   "source": [
    "import torch\n",
    "import numpy as np\n",
    "import pandas as pd\n",
    "import matplotlib.pyplot as plt\n",
    "\n",
    "# For constructing DataLoder\n",
    "from torch.utils.data import DataLoader, Dataset\n",
    "\n",
    "# For constructing Optimizer\n",
    "import torch.optim as optim"
   ]
  },
  {
   "cell_type": "code",
   "execution_count": 2,
   "id": "95531bc1",
   "metadata": {},
   "outputs": [],
   "source": [
    "# The function converts character labels to numeric labels, which facilitates the calculation of cross entropy\n",
    "def labels_to_id(lables):\n",
    "    target_id = []\n",
    "    target_lables = ['Class_1', 'Class_2', 'Class_3', 'Class_4', 'Class_5', 'Class_6', 'Class_7', 'Class_8', 'Class_9']\n",
    "    for lable in lables:\n",
    "        target_id.append(target_lables.index(lable))\n",
    "    return target_id"
   ]
  },
  {
   "cell_type": "code",
   "execution_count": 3,
   "id": "6af1ea90",
   "metadata": {},
   "outputs": [],
   "source": [
    "# Define dataset\n",
    "class TrainDataset(Dataset):\n",
    "    def __init__(self, filepath):\n",
    "        data = pd.read_csv('train.csv')\n",
    "        lables = data['target']\n",
    "        self.len = data.shape[0]\n",
    "        self.x_data = torch.tensor(np.array(data)[:, 1:-1].astype(float))\n",
    "        self.y_data = labels_to_id(lables)\n",
    "\n",
    "    def __getitem__(self, index):\n",
    "        return self.x_data[index], self.y_data[index]\n",
    "\n",
    "    def __len__(self):\n",
    "        return self.len"
   ]
  },
  {
   "cell_type": "code",
   "execution_count": 4,
   "id": "b6b54c47",
   "metadata": {},
   "outputs": [],
   "source": [
    "# Prepare dataset\n",
    "batch_size = 64\n",
    "\n",
    "train_dataset = TrainDataset('train.csv')\n",
    "train_loader = DataLoader(train_dataset, shuffle=True, batch_size=batch_size)"
   ]
  },
  {
   "cell_type": "code",
   "execution_count": 5,
   "id": "62feb395",
   "metadata": {},
   "outputs": [],
   "source": [
    "# Design Model\n",
    "class Net(torch.nn.Module):\n",
    "    def __init__(self):\n",
    "        super(Net, self).__init__()\n",
    "        self.l1 = torch.nn.Linear(93, 64)\n",
    "        self.l2 = torch.nn.Linear(64, 32)\n",
    "        self.l3 = torch.nn.Linear(32, 16)\n",
    "        self.l4 = torch.nn.Linear(16, 9)\n",
    "        self.activate = torch.nn.ReLU()\n",
    " \n",
    "    def forward(self, x):\n",
    "        x = self.activate(self.l1(x))\n",
    "        x = self.activate(self.l2(x))\n",
    "        x = self.activate(self.l3(x))\n",
    "        x = self.l4(x)\n",
    "        return x\n",
    "    \n",
    "model = Net()"
   ]
  },
  {
   "cell_type": "code",
   "execution_count": 6,
   "id": "c3e0d921",
   "metadata": {},
   "outputs": [],
   "source": [
    "# Construct Loss and Optimizer\n",
    "criterion = torch.nn.CrossEntropyLoss()\n",
    "optimizer = optim.SGD(model.parameters(), lr=0.01, momentum=0.5)"
   ]
  },
  {
   "cell_type": "code",
   "execution_count": 7,
   "id": "1fd9992d",
   "metadata": {},
   "outputs": [],
   "source": [
    "loss_list = []"
   ]
  },
  {
   "cell_type": "code",
   "execution_count": 8,
   "id": "71ee7aa7",
   "metadata": {},
   "outputs": [],
   "source": [
    "# Train\n",
    "def train(epoch):\n",
    "    model.train()\n",
    "    running_loss = 0.0\n",
    "    for batch_idx, data in enumerate(train_loader, 0):\n",
    "        inputs, target = data\n",
    "        inputs = inputs.float()\n",
    "        optimizer.zero_grad()\n",
    "        \n",
    "        # forward + backward + update\n",
    "        outputs = model(inputs)\n",
    "        loss = criterion(outputs, target)\n",
    "        \n",
    "        loss_list.append(loss.item())\n",
    "        \n",
    "        loss.backward()\n",
    "        optimizer.step()\n",
    " \n",
    "        running_loss += loss.item()\n",
    "        if batch_idx % 300 == 299:\n",
    "            print('[%d, %5d] loss: %.3f' % (epoch + 1, batch_idx + 1, running_loss / 300))\n",
    "            running_loss = 0.0"
   ]
  },
  {
   "cell_type": "code",
   "execution_count": 9,
   "id": "bcc898bf",
   "metadata": {},
   "outputs": [
    {
     "name": "stdout",
     "output_type": "stream",
     "text": [
      "[1,   300] loss: 1.769\n",
      "[1,   600] loss: 0.992\n",
      "[1,   900] loss: 0.804\n",
      "[2,   300] loss: 0.738\n",
      "[2,   600] loss: 0.706\n",
      "[2,   900] loss: 0.691\n",
      "[3,   300] loss: 0.664\n",
      "[3,   600] loss: 0.670\n",
      "[3,   900] loss: 0.658\n",
      "[4,   300] loss: 0.635\n",
      "[4,   600] loss: 0.634\n",
      "[4,   900] loss: 0.634\n",
      "[5,   300] loss: 0.623\n",
      "[5,   600] loss: 0.610\n",
      "[5,   900] loss: 0.606\n",
      "[6,   300] loss: 0.595\n",
      "[6,   600] loss: 0.598\n",
      "[6,   900] loss: 0.594\n",
      "[7,   300] loss: 0.581\n",
      "[7,   600] loss: 0.579\n",
      "[7,   900] loss: 0.587\n",
      "[8,   300] loss: 0.578\n",
      "[8,   600] loss: 0.568\n",
      "[8,   900] loss: 0.573\n",
      "[9,   300] loss: 0.566\n",
      "[9,   600] loss: 0.565\n",
      "[9,   900] loss: 0.561\n",
      "[10,   300] loss: 0.553\n",
      "[10,   600] loss: 0.560\n",
      "[10,   900] loss: 0.558\n"
     ]
    }
   ],
   "source": [
    "if __name__ == '__main__':\n",
    "    for epoch in range(10):\n",
    "        train(epoch)"
   ]
  },
  {
   "cell_type": "code",
   "execution_count": 11,
   "id": "76a81437",
   "metadata": {},
   "outputs": [
    {
     "data": {
      "image/png": "[encoded data removed]",
      "text/plain": [
       "<Figure size 640x480 with 1 Axes>"
      ]
     },
     "metadata": {},
     "output_type": "display_data"
    }
   ],
   "source": [
    "#画损失函数曲线\n",
    "plt.plot(range(len(loss_list)), loss_list)\n",
    "plt.xlabel('step')\n",
    "plt.ylabel('loss')\n",
    "plt.show()"
   ]
  },
  {
   "cell_type": "code",
   "execution_count": null,
   "id": "6637e0ec",
   "metadata": {},
   "outputs": [],
   "source": []
  }
 ],
 "metadata": {
  "kernelspec": {
   "display_name": "Python [conda env:pytorch] *",
   "language": "python",
   "name": "conda-env-pytorch-py"
  },
  "language_info": {
   "codemirror_mode": {
    "name": "ipython",
    "version": 3
   },
   "file_extension": ".py",
   "mimetype": "text/x-python",
   "name": "python",
   "nbconvert_exporter": "python",
   "pygments_lexer": "ipython3",
   "version": "3.8.20"
  }
 },
 "nbformat": 4,
 "nbformat_minor": 5
}
