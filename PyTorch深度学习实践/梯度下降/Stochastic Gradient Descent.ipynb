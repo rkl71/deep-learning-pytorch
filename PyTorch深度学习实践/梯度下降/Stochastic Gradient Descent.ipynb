{
 "cells": [
  {
   "cell_type": "code",
   "execution_count": 1,
   "id": "8203dc66",
   "metadata": {},
   "outputs": [],
   "source": [
    "import matplotlib.pyplot as plt"
   ]
  },
  {
   "cell_type": "code",
   "execution_count": 2,
   "id": "eb867d95",
   "metadata": {},
   "outputs": [],
   "source": [
    "# Prepare the train set\n",
    "x_data = [1.0, 2.0, 3.0]\n",
    "y_data = [2.0, 4.0, 6.0]"
   ]
  },
  {
   "cell_type": "code",
   "execution_count": 3,
   "id": "dd004b2e",
   "metadata": {},
   "outputs": [],
   "source": [
    "w = 1.0"
   ]
  },
  {
   "cell_type": "code",
   "execution_count": 4,
   "id": "4b6e62a7",
   "metadata": {},
   "outputs": [],
   "source": [
    "# Define the model\n",
    "def forward(x):\n",
    "    return x * w"
   ]
  },
  {
   "cell_type": "code",
   "execution_count": 5,
   "id": "d9ca382b",
   "metadata": {},
   "outputs": [],
   "source": [
    "# Define the loss function\n",
    "def loss(x, y):\n",
    "    y_pred = forward(x)\n",
    "    return (y_pred - y) ** 2"
   ]
  },
  {
   "cell_type": "code",
   "execution_count": 6,
   "id": "01cf1f15",
   "metadata": {},
   "outputs": [],
   "source": [
    "# Define the gradient function\n",
    "def gradient(x, y):\n",
    "    return 2 * x * (x * w - y)"
   ]
  },
  {
   "cell_type": "markdown",
   "id": "0e3bf789",
   "metadata": {},
   "source": [
    "$$\n",
    "\\frac{\\theta{loss_n}}{\\theta{\\omega}} = 2 \\cdot{x_n} \\cdot({x_n}\\cdot{\\omega} - y_n)\n",
    "$$"
   ]
  },
  {
   "cell_type": "code",
   "execution_count": 7,
   "id": "aafffe99",
   "metadata": {},
   "outputs": [],
   "source": [
    "epoch_list = []\n",
    "loss_list = []"
   ]
  },
  {
   "cell_type": "code",
   "execution_count": 8,
   "id": "60d4b01c",
   "metadata": {},
   "outputs": [
    {
     "name": "stdout",
     "output_type": "stream",
     "text": [
      "Predict (before training) 4 4.0\n",
      "Predict (after training) 4 7.9999999999996945\n"
     ]
    }
   ],
   "source": [
    "# Do the update\n",
    "print('Predict (before training)', 4, forward(4))\n",
    "for epoch in range(100):\n",
    "    for x, y in zip(x_data, y_data): \n",
    "        grad = gradient(x, y)\n",
    "        w -= 0.01 * grad\n",
    "#         print('\\tgrad', x, y, grad)\n",
    "        l = loss(x, y)\n",
    "    \n",
    "#     print(\"progress:\", epoch, \"w=\", w, \"loss=\", l)\n",
    "    epoch_list.append(epoch)\n",
    "    loss_list.append(l)\n",
    "\n",
    "print('Predict (after training)', 4, forward(4))"
   ]
  },
  {
   "cell_type": "code",
   "execution_count": 9,
   "id": "57414327",
   "metadata": {},
   "outputs": [
    {
     "data": {
      "image/png": "[encoded data removed]",
      "text/plain": [
       "<Figure size 640x480 with 1 Axes>"
      ]
     },
     "metadata": {},
     "output_type": "display_data"
    }
   ],
   "source": [
    "plt.plot(epoch_list, loss_list)\n",
    "plt.ylabel('loss')\n",
    "plt.xlabel('epoch')\n",
    "plt.grid(True)\n",
    "plt.show() "
   ]
  },
  {
   "cell_type": "code",
   "execution_count": null,
   "id": "4d19766b",
   "metadata": {},
   "outputs": [],
   "source": []
  }
 ],
 "metadata": {
  "kernelspec": {
   "display_name": "Python [conda env:pytorch] *",
   "language": "python",
   "name": "conda-env-pytorch-py"
  },
  "language_info": {
   "codemirror_mode": {
    "name": "ipython",
    "version": 3
   },
   "file_extension": ".py",
   "mimetype": "text/x-python",
   "name": "python",
   "nbconvert_exporter": "python",
   "pygments_lexer": "ipython3",
   "version": "3.8.20"
  }
 },
 "nbformat": 4,
 "nbformat_minor": 5
}
